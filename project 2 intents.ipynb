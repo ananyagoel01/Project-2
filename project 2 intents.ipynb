{
 "cells": [
  {
   "cell_type": "code",
   "execution_count": null,
   "id": "955b689e",
   "metadata": {},
   "outputs": [],
   "source": [
    "\n",
    "{\"intents\": [\n",
    "        {\"tag\": \"greeting\",\n",
    "         \"patterns\": [\"Hi\", \"How are you\", \"Is anyone there?\", \"Hello\", \"Hey\",\"Good day\", \"Whats up\",\"Hola\"],\n",
    "         \"responses\": [\"Hello!\", \"Good to see you again!\", \"Hi there, how can I help?\",\"hurry up, I don't have all day\"],\n",
    "         \"context_set\": \"\"\n",
    "        },\n",
    "        {\"tag\": \"goodbye\",\n",
    "         \"patterns\": [\"cya\", \"See you later\", \"Goodbye\", \"I am Leaving\", \"Have a Good day\",\"bye\"],\n",
    "         \"responses\": [\"Sad to see you go..\", \"Talk to you later\", \"Goodbye!\"],\n",
    "         \"context_set\": \"\"\n",
    "        }\n",
    "         \n",
    "   ]\n",
    "}"
   ]
  }
 ],
 "metadata": {
  "kernelspec": {
   "display_name": "Python 3 (ipykernel)",
   "language": "python",
   "name": "python3"
  },
  "language_info": {
   "codemirror_mode": {
    "name": "ipython",
    "version": 3
   },
   "file_extension": ".py",
   "mimetype": "text/x-python",
   "name": "python",
   "nbconvert_exporter": "python",
   "pygments_lexer": "ipython3",
   "version": "3.9.12"
  }
 },
 "nbformat": 4,
 "nbformat_minor": 5
}
